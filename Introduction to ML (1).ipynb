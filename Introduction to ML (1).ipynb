{
 "cells": [
  {
   "cell_type": "markdown",
   "metadata": {},
   "source": [
    "# Introduction to Machine Learning Project"
   ]
  },
  {
   "cell_type": "markdown",
   "metadata": {},
   "source": [
    "# Project description"
   ]
  },
  {
   "cell_type": "markdown",
   "metadata": {},
   "source": [
    "Mobile carrier Megaline has found out that many of their subscribers use legacy plans. They want to develop a model that would analyze subscribers' behavior and recommend one of Megaline's newer plans: Smart or Ultra.\n",
    "You have access to behavior data about subscribers who have already switched to the new plans (from the project for the Statistical Data Analysis course). For this classification task, you need to develop a model that will pick the right plan. Since you’ve already performed the data preprocessing step, you can move straight to creating the model.\n",
    "Develop a model with the highest possible accuracy. In this project, the threshold for accuracy is 0.75. Check the accuracy using the test dataset."
   ]
  },
  {
   "cell_type": "markdown",
   "metadata": {},
   "source": [
    "# Project instructions:\n",
    "\n",
    "1. Open and look through the data file.\n",
    "2. Split the source data into a training set, a validation set, and a test set.\n",
    "3. Investigate the quality of different models by changing hyperparameters. Briefly describe the findings of the study.\n",
    "4. Check the quality of the model using the test set.\n",
    "5. Additional task: sanity check the model. This data is more complex than what you’re used to working with, so it's not an easy task. We'll take a closer look at it later."
   ]
  },
  {
   "cell_type": "markdown",
   "metadata": {},
   "source": [
    "# Data description:\n",
    "\n",
    " - сalls — number of calls\n",
    " - minutes — total call duration in minutes\n",
    " - messages — number of text messages\n",
    " - mb_used — Internet traffic used in MB\n",
    " - is_ultra — plan for the current month (Ultra - 1, Smart - 0)"
   ]
  },
  {
   "cell_type": "markdown",
   "metadata": {},
   "source": [
    "## Open and look through the data file."
   ]
  },
  {
   "cell_type": "code",
   "execution_count": 32,
   "metadata": {},
   "outputs": [],
   "source": [
    "import pandas as pd\n",
    "from sklearn.model_selection import train_test_split\n",
    "from sklearn.tree import DecisionTreeClassifier\n",
    "from sklearn.metrics import accuracy_score\n",
    "from sklearn.ensemble import RandomForestClassifier\n",
    "from sklearn.linear_model import LogisticRegression\n",
    "from sklearn.dummy import DummyClassifier\n",
    "import warnings\n",
    "warnings.filterwarnings(\"ignore\")"
   ]
  },
  {
   "cell_type": "code",
   "execution_count": 33,
   "metadata": {},
   "outputs": [
    {
     "data": {
      "text/html": [
       "<div>\n",
       "<style scoped>\n",
       "    .dataframe tbody tr th:only-of-type {\n",
       "        vertical-align: middle;\n",
       "    }\n",
       "\n",
       "    .dataframe tbody tr th {\n",
       "        vertical-align: top;\n",
       "    }\n",
       "\n",
       "    .dataframe thead th {\n",
       "        text-align: right;\n",
       "    }\n",
       "</style>\n",
       "<table border=\"1\" class=\"dataframe\">\n",
       "  <thead>\n",
       "    <tr style=\"text-align: right;\">\n",
       "      <th></th>\n",
       "      <th>calls</th>\n",
       "      <th>minutes</th>\n",
       "      <th>messages</th>\n",
       "      <th>mb_used</th>\n",
       "      <th>is_ultra</th>\n",
       "    </tr>\n",
       "  </thead>\n",
       "  <tbody>\n",
       "    <tr>\n",
       "      <td>2022</td>\n",
       "      <td>56.0</td>\n",
       "      <td>354.15</td>\n",
       "      <td>98.0</td>\n",
       "      <td>8278.77</td>\n",
       "      <td>0</td>\n",
       "    </tr>\n",
       "    <tr>\n",
       "      <td>2518</td>\n",
       "      <td>69.0</td>\n",
       "      <td>535.17</td>\n",
       "      <td>70.0</td>\n",
       "      <td>19913.49</td>\n",
       "      <td>0</td>\n",
       "    </tr>\n",
       "    <tr>\n",
       "      <td>3191</td>\n",
       "      <td>57.0</td>\n",
       "      <td>363.42</td>\n",
       "      <td>23.0</td>\n",
       "      <td>16282.29</td>\n",
       "      <td>0</td>\n",
       "    </tr>\n",
       "    <tr>\n",
       "      <td>853</td>\n",
       "      <td>104.0</td>\n",
       "      <td>704.71</td>\n",
       "      <td>30.0</td>\n",
       "      <td>43304.53</td>\n",
       "      <td>1</td>\n",
       "    </tr>\n",
       "    <tr>\n",
       "      <td>1146</td>\n",
       "      <td>58.0</td>\n",
       "      <td>400.82</td>\n",
       "      <td>15.0</td>\n",
       "      <td>19335.93</td>\n",
       "      <td>0</td>\n",
       "    </tr>\n",
       "    <tr>\n",
       "      <td>365</td>\n",
       "      <td>20.0</td>\n",
       "      <td>131.97</td>\n",
       "      <td>23.0</td>\n",
       "      <td>26720.17</td>\n",
       "      <td>1</td>\n",
       "    </tr>\n",
       "    <tr>\n",
       "      <td>989</td>\n",
       "      <td>58.0</td>\n",
       "      <td>373.58</td>\n",
       "      <td>63.0</td>\n",
       "      <td>14802.42</td>\n",
       "      <td>0</td>\n",
       "    </tr>\n",
       "    <tr>\n",
       "      <td>1340</td>\n",
       "      <td>32.0</td>\n",
       "      <td>244.80</td>\n",
       "      <td>13.0</td>\n",
       "      <td>7213.58</td>\n",
       "      <td>0</td>\n",
       "    </tr>\n",
       "    <tr>\n",
       "      <td>2946</td>\n",
       "      <td>65.0</td>\n",
       "      <td>410.56</td>\n",
       "      <td>0.0</td>\n",
       "      <td>26756.07</td>\n",
       "      <td>0</td>\n",
       "    </tr>\n",
       "    <tr>\n",
       "      <td>2598</td>\n",
       "      <td>19.0</td>\n",
       "      <td>145.13</td>\n",
       "      <td>6.0</td>\n",
       "      <td>5181.60</td>\n",
       "      <td>1</td>\n",
       "    </tr>\n",
       "  </tbody>\n",
       "</table>\n",
       "</div>"
      ],
      "text/plain": [
       "      calls  minutes  messages   mb_used  is_ultra\n",
       "2022   56.0   354.15      98.0   8278.77         0\n",
       "2518   69.0   535.17      70.0  19913.49         0\n",
       "3191   57.0   363.42      23.0  16282.29         0\n",
       "853   104.0   704.71      30.0  43304.53         1\n",
       "1146   58.0   400.82      15.0  19335.93         0\n",
       "365    20.0   131.97      23.0  26720.17         1\n",
       "989    58.0   373.58      63.0  14802.42         0\n",
       "1340   32.0   244.80      13.0   7213.58         0\n",
       "2946   65.0   410.56       0.0  26756.07         0\n",
       "2598   19.0   145.13       6.0   5181.60         1"
      ]
     },
     "execution_count": 33,
     "metadata": {},
     "output_type": "execute_result"
    }
   ],
   "source": [
    "df = pd.read_csv('/datasets/users_behavior.csv')\n",
    "df.sample(10)"
   ]
  },
  {
   "cell_type": "code",
   "execution_count": 34,
   "metadata": {},
   "outputs": [
    {
     "name": "stdout",
     "output_type": "stream",
     "text": [
      "<class 'pandas.core.frame.DataFrame'>\n",
      "RangeIndex: 3214 entries, 0 to 3213\n",
      "Data columns (total 5 columns):\n",
      "calls       3214 non-null float64\n",
      "minutes     3214 non-null float64\n",
      "messages    3214 non-null float64\n",
      "mb_used     3214 non-null float64\n",
      "is_ultra    3214 non-null int64\n",
      "dtypes: float64(4), int64(1)\n",
      "memory usage: 125.7 KB\n"
     ]
    }
   ],
   "source": [
    "df.info()"
   ]
  },
  {
   "cell_type": "markdown",
   "metadata": {},
   "source": [
    "We have dataset with total 5 columns and 3214 rows. 4 columns are float64 type and last one int64 type. We don't have any missing values in columns."
   ]
  },
  {
   "cell_type": "code",
   "execution_count": 35,
   "metadata": {},
   "outputs": [
    {
     "data": {
      "text/html": [
       "<div>\n",
       "<style scoped>\n",
       "    .dataframe tbody tr th:only-of-type {\n",
       "        vertical-align: middle;\n",
       "    }\n",
       "\n",
       "    .dataframe tbody tr th {\n",
       "        vertical-align: top;\n",
       "    }\n",
       "\n",
       "    .dataframe thead th {\n",
       "        text-align: right;\n",
       "    }\n",
       "</style>\n",
       "<table border=\"1\" class=\"dataframe\">\n",
       "  <thead>\n",
       "    <tr style=\"text-align: right;\">\n",
       "      <th></th>\n",
       "      <th>calls</th>\n",
       "      <th>minutes</th>\n",
       "      <th>messages</th>\n",
       "      <th>mb_used</th>\n",
       "      <th>is_ultra</th>\n",
       "    </tr>\n",
       "  </thead>\n",
       "  <tbody>\n",
       "    <tr>\n",
       "      <td>calls</td>\n",
       "      <td>1.000000</td>\n",
       "      <td>0.982083</td>\n",
       "      <td>0.177385</td>\n",
       "      <td>0.286442</td>\n",
       "      <td>0.207122</td>\n",
       "    </tr>\n",
       "    <tr>\n",
       "      <td>minutes</td>\n",
       "      <td>0.982083</td>\n",
       "      <td>1.000000</td>\n",
       "      <td>0.173110</td>\n",
       "      <td>0.280967</td>\n",
       "      <td>0.206955</td>\n",
       "    </tr>\n",
       "    <tr>\n",
       "      <td>messages</td>\n",
       "      <td>0.177385</td>\n",
       "      <td>0.173110</td>\n",
       "      <td>1.000000</td>\n",
       "      <td>0.195721</td>\n",
       "      <td>0.203830</td>\n",
       "    </tr>\n",
       "    <tr>\n",
       "      <td>mb_used</td>\n",
       "      <td>0.286442</td>\n",
       "      <td>0.280967</td>\n",
       "      <td>0.195721</td>\n",
       "      <td>1.000000</td>\n",
       "      <td>0.198568</td>\n",
       "    </tr>\n",
       "    <tr>\n",
       "      <td>is_ultra</td>\n",
       "      <td>0.207122</td>\n",
       "      <td>0.206955</td>\n",
       "      <td>0.203830</td>\n",
       "      <td>0.198568</td>\n",
       "      <td>1.000000</td>\n",
       "    </tr>\n",
       "  </tbody>\n",
       "</table>\n",
       "</div>"
      ],
      "text/plain": [
       "             calls   minutes  messages   mb_used  is_ultra\n",
       "calls     1.000000  0.982083  0.177385  0.286442  0.207122\n",
       "minutes   0.982083  1.000000  0.173110  0.280967  0.206955\n",
       "messages  0.177385  0.173110  1.000000  0.195721  0.203830\n",
       "mb_used   0.286442  0.280967  0.195721  1.000000  0.198568\n",
       "is_ultra  0.207122  0.206955  0.203830  0.198568  1.000000"
      ]
     },
     "execution_count": 35,
     "metadata": {},
     "output_type": "execute_result"
    }
   ],
   "source": [
    "df.corr()"
   ]
  },
  {
   "cell_type": "markdown",
   "metadata": {},
   "source": [
    "There is a big correlation between columns calls and minutes. Let's drop down one which correlates less with tariff column."
   ]
  },
  {
   "cell_type": "code",
   "execution_count": 36,
   "metadata": {},
   "outputs": [],
   "source": [
    "df = df.drop(['minutes'], axis=1)"
   ]
  },
  {
   "cell_type": "code",
   "execution_count": 37,
   "metadata": {},
   "outputs": [
    {
     "data": {
      "text/html": [
       "<div>\n",
       "<style scoped>\n",
       "    .dataframe tbody tr th:only-of-type {\n",
       "        vertical-align: middle;\n",
       "    }\n",
       "\n",
       "    .dataframe tbody tr th {\n",
       "        vertical-align: top;\n",
       "    }\n",
       "\n",
       "    .dataframe thead th {\n",
       "        text-align: right;\n",
       "    }\n",
       "</style>\n",
       "<table border=\"1\" class=\"dataframe\">\n",
       "  <thead>\n",
       "    <tr style=\"text-align: right;\">\n",
       "      <th></th>\n",
       "      <th>calls</th>\n",
       "      <th>messages</th>\n",
       "      <th>mb_used</th>\n",
       "      <th>is_ultra</th>\n",
       "    </tr>\n",
       "  </thead>\n",
       "  <tbody>\n",
       "    <tr>\n",
       "      <td>0</td>\n",
       "      <td>40.0</td>\n",
       "      <td>83.0</td>\n",
       "      <td>19915.42</td>\n",
       "      <td>0</td>\n",
       "    </tr>\n",
       "    <tr>\n",
       "      <td>1</td>\n",
       "      <td>85.0</td>\n",
       "      <td>56.0</td>\n",
       "      <td>22696.96</td>\n",
       "      <td>0</td>\n",
       "    </tr>\n",
       "    <tr>\n",
       "      <td>2</td>\n",
       "      <td>77.0</td>\n",
       "      <td>86.0</td>\n",
       "      <td>21060.45</td>\n",
       "      <td>0</td>\n",
       "    </tr>\n",
       "    <tr>\n",
       "      <td>3</td>\n",
       "      <td>106.0</td>\n",
       "      <td>81.0</td>\n",
       "      <td>8437.39</td>\n",
       "      <td>1</td>\n",
       "    </tr>\n",
       "    <tr>\n",
       "      <td>4</td>\n",
       "      <td>66.0</td>\n",
       "      <td>1.0</td>\n",
       "      <td>14502.75</td>\n",
       "      <td>0</td>\n",
       "    </tr>\n",
       "  </tbody>\n",
       "</table>\n",
       "</div>"
      ],
      "text/plain": [
       "   calls  messages   mb_used  is_ultra\n",
       "0   40.0      83.0  19915.42         0\n",
       "1   85.0      56.0  22696.96         0\n",
       "2   77.0      86.0  21060.45         0\n",
       "3  106.0      81.0   8437.39         1\n",
       "4   66.0       1.0  14502.75         0"
      ]
     },
     "execution_count": 37,
     "metadata": {},
     "output_type": "execute_result"
    }
   ],
   "source": [
    "df.head()"
   ]
  },
  {
   "cell_type": "markdown",
   "metadata": {},
   "source": [
    "Ok, now we have a prepared dataset to work with."
   ]
  },
  {
   "cell_type": "markdown",
   "metadata": {},
   "source": [
    "## Split the source data into a training set, a validation set, and a test set."
   ]
  },
  {
   "cell_type": "code",
   "execution_count": 38,
   "metadata": {},
   "outputs": [],
   "source": [
    "features = df.drop(['is_ultra'], axis=1)\n",
    "target = df['is_ultra']"
   ]
  },
  {
   "cell_type": "code",
   "execution_count": 39,
   "metadata": {},
   "outputs": [],
   "source": [
    "features, features_test, target, target_test = train_test_split(\n",
    "    features, target, test_size=.2, random_state=123)"
   ]
  },
  {
   "cell_type": "code",
   "execution_count": 40,
   "metadata": {},
   "outputs": [],
   "source": [
    "features_train, features_valid, target_train, target_valid = train_test_split(\n",
    "    features, target, test_size=.25, random_state=123)"
   ]
  },
  {
   "cell_type": "markdown",
   "metadata": {},
   "source": [
    "We splited all data source into a training, validation and test sets in proportion 60/20/20"
   ]
  },
  {
   "cell_type": "markdown",
   "metadata": {},
   "source": [
    "## Investigate the quality of different models by changing hyperparameters. Briefly describe the findings of the study."
   ]
  },
  {
   "cell_type": "markdown",
   "metadata": {},
   "source": [
    "### Decision Tree model."
   ]
  },
  {
   "cell_type": "code",
   "execution_count": 41,
   "metadata": {},
   "outputs": [
    {
     "name": "stdout",
     "output_type": "stream",
     "text": [
      "The Best depth of model: 7\n",
      "The best result of decision tree model: 0.79\n",
      "CPU times: user 102 ms, sys: 0 ns, total: 102 ms\n",
      "Wall time: 106 ms\n"
     ]
    }
   ],
   "source": [
    "%%time\n",
    "best_tree_model = None\n",
    "best_tree_result = 0\n",
    "best_tree_depth = 0\n",
    "for depth in range(1, 21):\n",
    "    model_dtc = DecisionTreeClassifier(random_state=123, max_depth=depth)\n",
    "    model_dtc.fit(features_train, target_train)\n",
    "    predictions_dtc = model_dtc.predict(features_valid)\n",
    "    result_dtc = accuracy_score(target_valid, predictions_dtc)\n",
    "    if result_dtc > best_tree_result:\n",
    "        best_tree_model = model_dtc\n",
    "        best_tree_result = result_dtc\n",
    "        best_tree_depth = depth\n",
    "print('The Best depth of model:', best_tree_depth)\n",
    "print('The best result of decision tree model:', best_tree_result.round(2))"
   ]
  },
  {
   "cell_type": "markdown",
   "metadata": {},
   "source": [
    "The best depth for deciosion tree model is 7, with this depth we got result of 0.79 and pretty good speed."
   ]
  },
  {
   "cell_type": "markdown",
   "metadata": {},
   "source": [
    "### Random forest model."
   ]
  },
  {
   "cell_type": "code",
   "execution_count": 42,
   "metadata": {},
   "outputs": [
    {
     "name": "stdout",
     "output_type": "stream",
     "text": [
      "The best amount of est: 22\n",
      "The best result: 0.8\n",
      "CPU times: user 813 ms, sys: 6.62 ms, total: 819 ms\n",
      "Wall time: 824 ms\n"
     ]
    }
   ],
   "source": [
    "%%time\n",
    "best_forest_model = None\n",
    "best_forest_result = 0\n",
    "best_forest_est = 0\n",
    "for est in range(1, 26):\n",
    "    model_rfc = RandomForestClassifier(random_state=123, n_estimators=est)\n",
    "    model_rfc.fit(features_train, target_train)\n",
    "    result_rfc = model_rfc.score(features_valid, target_valid)\n",
    "    if result_rfc > best_forest_result:\n",
    "        best_forest_model = model_rfc\n",
    "        best_forest_result = result_rfc\n",
    "        best_forest_est = est\n",
    "print('The best amount of est:', best_forest_est)\n",
    "print('The best result:', best_forest_result.round(2))"
   ]
  },
  {
   "cell_type": "markdown",
   "metadata": {},
   "source": [
    "The best amount of estimators is 22, we have a better result 0.8 compared with result of Decision tree model. But this model needs much more time. Let's see if depth will impact the result."
   ]
  },
  {
   "cell_type": "code",
   "execution_count": 43,
   "metadata": {},
   "outputs": [
    {
     "name": "stdout",
     "output_type": "stream",
     "text": [
      "The best amount of estimators: 9\n",
      "Best depth: 6\n",
      "Best result of random forest: 0.81\n",
      "CPU times: user 3.97 s, sys: 31.8 ms, total: 4 s\n",
      "Wall time: 4.01 s\n"
     ]
    }
   ],
   "source": [
    "%%time\n",
    "best_forest_model = None\n",
    "best_forest_result = 0\n",
    "best_forest_est = 0\n",
    "best_forest_depth = 0\n",
    "\n",
    "for est in range(1, 21):\n",
    "    for depth in range(1, 11):\n",
    "        model_rfc = RandomForestClassifier(random_state=123, n_estimators=est, max_depth=depth)\n",
    "        model_rfc.fit(features_train, target_train)\n",
    "        result_rfc = model_rfc.score(features_valid, target_valid)\n",
    "        if result_rfc > best_forest_result:\n",
    "            best_forest_model = model_rfc\n",
    "            best_forest_result = result_rfc\n",
    "            best_forest_est = est\n",
    "            best_forest_depth = depth\n",
    "print('The best amount of estimators:', best_forest_est)\n",
    "print('Best depth:', best_forest_depth)\n",
    "print('Best result of random forest:', best_forest_result.round(2))"
   ]
  },
  {
   "cell_type": "markdown",
   "metadata": {},
   "source": [
    "With depth we got another results. With depth = 6 the best amount of estimators is 9 and it gives us better result of 0.81, but the time increased dramatically."
   ]
  },
  {
   "cell_type": "markdown",
   "metadata": {},
   "source": [
    "### Logistic Regression Model"
   ]
  },
  {
   "cell_type": "code",
   "execution_count": 44,
   "metadata": {},
   "outputs": [
    {
     "name": "stdout",
     "output_type": "stream",
     "text": [
      "Result of logistic regression model: 0.71\n",
      "CPU times: user 7.17 ms, sys: 0 ns, total: 7.17 ms\n",
      "Wall time: 13 ms\n"
     ]
    }
   ],
   "source": [
    "%%time\n",
    "model_lr = LogisticRegression(random_state=123)\n",
    "model_lr.fit(features_train, target_train)\n",
    "result_lr = model_lr.score(features_valid, target_valid)\n",
    "print('Result of logistic regression model:', result_lr.round(2))"
   ]
  },
  {
   "cell_type": "markdown",
   "metadata": {},
   "source": [
    "This model took a lot of time, longer than decision tree and random forest models, and gave worst result - 0.71."
   ]
  },
  {
   "cell_type": "markdown",
   "metadata": {},
   "source": [
    "## Check the quality of the model using the test set."
   ]
  },
  {
   "cell_type": "markdown",
   "metadata": {},
   "source": [
    "### The test of decision tree model"
   ]
  },
  {
   "cell_type": "code",
   "execution_count": 45,
   "metadata": {},
   "outputs": [
    {
     "name": "stdout",
     "output_type": "stream",
     "text": [
      "Accuracy of decision tree model: 0.79\n",
      "CPU times: user 3.34 ms, sys: 198 µs, total: 3.54 ms\n",
      "Wall time: 2.25 ms\n"
     ]
    }
   ],
   "source": [
    "%%time\n",
    "test_prediction_dtc = best_tree_model.predict(features_test)\n",
    "test_result_dtc = accuracy_score(target_test, test_prediction_dtc)\n",
    "print('Accuracy of decision tree model:', test_result_dtc.round(2))"
   ]
  },
  {
   "cell_type": "markdown",
   "metadata": {},
   "source": [
    "Decision tree model gives us a good result of 0.79 with good speed of execution."
   ]
  },
  {
   "cell_type": "markdown",
   "metadata": {},
   "source": [
    "### The test of random forest model"
   ]
  },
  {
   "cell_type": "code",
   "execution_count": 46,
   "metadata": {},
   "outputs": [
    {
     "name": "stdout",
     "output_type": "stream",
     "text": [
      "Accuracy of random forest model: 0.81\n",
      "CPU times: user 3.71 ms, sys: 0 ns, total: 3.71 ms\n",
      "Wall time: 3.17 ms\n"
     ]
    }
   ],
   "source": [
    "%%time\n",
    "test_result_rfc = best_forest_model.score(features_test, target_test)\n",
    "print('Accuracy of random forest model:', test_result_rfc.round(2))"
   ]
  },
  {
   "cell_type": "markdown",
   "metadata": {},
   "source": [
    "We have a very good result of 0.81, time is little bit bigger but not dramatically."
   ]
  },
  {
   "cell_type": "markdown",
   "metadata": {},
   "source": [
    "### Test of logistic regression model"
   ]
  },
  {
   "cell_type": "code",
   "execution_count": 47,
   "metadata": {},
   "outputs": [
    {
     "name": "stdout",
     "output_type": "stream",
     "text": [
      "Accuracy of logistic regression model: 0.71\n",
      "CPU times: user 1.67 ms, sys: 99 µs, total: 1.77 ms\n",
      "Wall time: 1.51 ms\n"
     ]
    }
   ],
   "source": [
    "%%time\n",
    "test_result_lr = model_lr.score(features_test, target_test)\n",
    "print('Accuracy of logistic regression model:', test_result_lr.round(2))"
   ]
  },
  {
   "cell_type": "markdown",
   "metadata": {},
   "source": [
    "This model gave us the best time of execution but worst result compared with other models."
   ]
  },
  {
   "cell_type": "markdown",
   "metadata": {},
   "source": [
    "## Additional task: sanity check the model. "
   ]
  },
  {
   "cell_type": "code",
   "execution_count": 48,
   "metadata": {},
   "outputs": [
    {
     "name": "stdout",
     "output_type": "stream",
     "text": [
      "Result of sanity check: 0.59\n",
      "Accuracy of decision tree model: 0.79\n"
     ]
    }
   ],
   "source": [
    "dummy_clf = DummyClassifier(random_state=123)\n",
    "dummy_clf.fit(features_test, target_test)\n",
    "\n",
    "predictions_dc = dummy_clf.predict(features_test)\n",
    "\n",
    "result_dc = dummy_clf.score(features_test, target_test)\n",
    "\n",
    "print('Result of sanity check:', result_dc.round(2))\n",
    "print('Accuracy of decision tree model:', test_result_dtc.round(2))"
   ]
  },
  {
   "cell_type": "markdown",
   "metadata": {},
   "source": [
    "# Conclusion."
   ]
  },
  {
   "cell_type": "markdown",
   "metadata": {},
   "source": [
    "We have dataset with total 5 columns and 3214 rows. 4 columns are float64 type and last one int64 type. We don't have any missing values in columns. There is a big correlation between columns calls and minutes. I droped down one which correlates less with tariff column. The best depth for decision tree model is 7, with this depth we got result of 0.79 and pretty good speed. The best amount of estimators is 22, we have a better result 0.8 compared with result of Decision tree model. But this model needs much more time. Let's see if depth will impact the result. With depth we got another results. With depth = 6 the best amount of estimators is 9 and it gives us better result of 0.81, but the time increased dramatically. This model took a lot of time, longer than decision tree and random forest models, and gave worst result - 0.71.\n",
    "Checking of model quality also gave us result that the best model for our dataset is decision tree model. It gives a good accuracy and doesn't take much time for execution. Also after sanity check we as well see that this model gave us a good results and it is the best choice for this task."
   ]
  },
  {
   "cell_type": "code",
   "execution_count": null,
   "metadata": {},
   "outputs": [],
   "source": []
  },
  {
   "cell_type": "code",
   "execution_count": null,
   "metadata": {},
   "outputs": [],
   "source": []
  },
  {
   "cell_type": "code",
   "execution_count": null,
   "metadata": {},
   "outputs": [],
   "source": []
  }
 ],
 "metadata": {
  "ExecuteTimeLog": [
   {
    "duration": 1001,
    "start_time": "2022-03-09T18:27:38.882Z"
   },
   {
    "duration": 26,
    "start_time": "2022-03-09T18:28:00.946Z"
   },
   {
    "duration": 20,
    "start_time": "2022-03-09T18:28:13.910Z"
   },
   {
    "duration": 21,
    "start_time": "2022-03-09T18:28:20.434Z"
   },
   {
    "duration": 8,
    "start_time": "2022-03-09T18:28:42.628Z"
   },
   {
    "duration": 10,
    "start_time": "2022-03-09T18:34:31.066Z"
   },
   {
    "duration": 4,
    "start_time": "2022-03-09T18:36:14.770Z"
   },
   {
    "duration": 266,
    "start_time": "2022-03-09T18:36:24.176Z"
   },
   {
    "duration": 174,
    "start_time": "2022-03-09T18:36:36.582Z"
   },
   {
    "duration": 166,
    "start_time": "2022-03-09T18:36:58.860Z"
   },
   {
    "duration": 54,
    "start_time": "2022-03-09T18:37:08.766Z"
   },
   {
    "duration": 202,
    "start_time": "2022-03-09T18:37:13.284Z"
   },
   {
    "duration": 26,
    "start_time": "2022-03-09T18:37:21.469Z"
   },
   {
    "duration": 7,
    "start_time": "2022-03-09T18:37:22.473Z"
   },
   {
    "duration": 10,
    "start_time": "2022-03-09T18:37:28.470Z"
   },
   {
    "duration": 4,
    "start_time": "2022-03-09T18:37:30.279Z"
   },
   {
    "duration": 8,
    "start_time": "2022-03-09T18:37:36.161Z"
   },
   {
    "duration": 4,
    "start_time": "2022-03-09T18:46:09.836Z"
   },
   {
    "duration": 5,
    "start_time": "2022-03-09T18:46:19.226Z"
   },
   {
    "duration": 5,
    "start_time": "2022-03-09T18:46:28.999Z"
   },
   {
    "duration": 107,
    "start_time": "2022-03-09T18:49:34.630Z"
   },
   {
    "duration": 811,
    "start_time": "2022-03-09T18:51:42.500Z"
   },
   {
    "duration": 4026,
    "start_time": "2022-03-09T18:54:19.528Z"
   },
   {
    "duration": 11,
    "start_time": "2022-03-09T18:56:26.263Z"
   },
   {
    "duration": 3,
    "start_time": "2022-03-09T18:56:43.030Z"
   },
   {
    "duration": 10,
    "start_time": "2022-03-09T18:56:49.508Z"
   },
   {
    "duration": 7,
    "start_time": "2022-03-09T18:59:07.702Z"
   },
   {
    "duration": 7,
    "start_time": "2022-03-09T19:00:47.333Z"
   },
   {
    "duration": 7,
    "start_time": "2022-03-09T19:02:10.514Z"
   },
   {
    "duration": 6,
    "start_time": "2022-03-09T19:02:23.596Z"
   },
   {
    "duration": 7,
    "start_time": "2022-03-09T19:04:24.722Z"
   },
   {
    "duration": 4,
    "start_time": "2022-03-09T19:10:58.761Z"
   },
   {
    "duration": 23,
    "start_time": "2022-03-09T19:10:58.767Z"
   },
   {
    "duration": 6,
    "start_time": "2022-03-09T19:10:58.791Z"
   },
   {
    "duration": 10,
    "start_time": "2022-03-09T19:10:58.799Z"
   },
   {
    "duration": 3,
    "start_time": "2022-03-09T19:10:58.810Z"
   },
   {
    "duration": 9,
    "start_time": "2022-03-09T19:10:58.815Z"
   },
   {
    "duration": 11,
    "start_time": "2022-03-09T19:10:58.826Z"
   },
   {
    "duration": 5,
    "start_time": "2022-03-09T19:10:58.841Z"
   },
   {
    "duration": 7,
    "start_time": "2022-03-09T19:10:58.848Z"
   },
   {
    "duration": 119,
    "start_time": "2022-03-09T19:10:58.857Z"
   },
   {
    "duration": 829,
    "start_time": "2022-03-09T19:10:58.978Z"
   },
   {
    "duration": 4013,
    "start_time": "2022-03-09T19:10:59.808Z"
   },
   {
    "duration": 17,
    "start_time": "2022-03-09T19:11:03.822Z"
   },
   {
    "duration": 5,
    "start_time": "2022-03-09T19:11:03.840Z"
   },
   {
    "duration": 14,
    "start_time": "2022-03-09T19:11:03.847Z"
   },
   {
    "duration": 6,
    "start_time": "2022-03-09T19:11:03.863Z"
   },
   {
    "duration": 8,
    "start_time": "2022-03-09T19:11:03.871Z"
   }
  ],
  "kernelspec": {
   "display_name": "Python 3 (ipykernel)",
   "language": "python",
   "name": "python3"
  },
  "language_info": {
   "codemirror_mode": {
    "name": "ipython",
    "version": 3
   },
   "file_extension": ".py",
   "mimetype": "text/x-python",
   "name": "python",
   "nbconvert_exporter": "python",
   "pygments_lexer": "ipython3",
   "version": "3.9.7"
  },
  "toc": {
   "base_numbering": 1,
   "nav_menu": {},
   "number_sections": true,
   "sideBar": true,
   "skip_h1_title": true,
   "title_cell": "Table of Contents",
   "title_sidebar": "Contents",
   "toc_cell": false,
   "toc_position": {},
   "toc_section_display": true,
   "toc_window_display": false
  }
 },
 "nbformat": 4,
 "nbformat_minor": 2
}
